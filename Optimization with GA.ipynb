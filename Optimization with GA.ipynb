{
 "cells": [
  {
   "cell_type": "markdown",
   "id": "3d497ac7-dd68-407b-ba8b-1b7c32007967",
   "metadata": {},
   "source": [
    "# Optimization using Genetic Algorithm "
   ]
  },
  {
   "cell_type": "markdown",
   "id": "b9054ac6-0221-4bf9-97c1-9dde4226d788",
   "metadata": {},
   "source": [
    "## 0. Import necessary Libraries"
   ]
  },
  {
   "cell_type": "code",
   "execution_count": 3,
   "id": "f697cdb4-1e53-4de0-a6fb-9d37494cce76",
   "metadata": {},
   "outputs": [],
   "source": [
    "import pandas as pd\n",
    "import geopandas as gpd\n",
    "import networkx as nx\n",
    "#import stellargraph as sg\n",
    "from sklearn.metrics.pairwise import haversine_distances\n",
    "import numpy as np\n",
    "import matplotlib.pyplot as plt\n",
    "import random\n",
    "import math\n",
    "import sys"
   ]
  },
  {
   "cell_type": "markdown",
   "id": "de726455-c9e9-4feb-ac07-9612714ca3c7",
   "metadata": {},
   "source": [
    "## 1. Load the data "
   ]
  },
  {
   "cell_type": "code",
   "execution_count": 5,
   "id": "ee88865e-4d29-495a-b1dd-c2d8ff79fc80",
   "metadata": {},
   "outputs": [],
   "source": [
    "# Load the data\n",
    "shapefile_path = r\"C:\\Users\\Paula\\OneDrive\\Matematicas y estadistia-UCM\\Matematicas y estadistica\\TFG\\Base de datos\\Data (1)\\Data\\taxi_zones\\taxi_zones\\taxi_zones.shp\"\n",
    "zone_info_path = r\"C:\\Users\\Paula\\OneDrive\\Matematicas y estadistia-UCM\\Matematicas y estadistica\\TFG\\Base de datos\\Data (1)\\Data\\taxi_zone_lookup.csv\"\n",
    "demand_data_path = r\"C:\\Users\\Paula\\OneDrive\\Matematicas y estadistia-UCM\\Matematicas y estadistica\\TFG\\Base de datos\\Data (1)\\taxi_data_cols.csv\"\n",
    "\n",
    "taxi_zones = gpd.read_file(shapefile_path)\n",
    "zone_info = pd.read_csv(zone_info_path)\n",
    "demand_data = pd.read_csv(demand_data_path)"
   ]
  },
  {
   "cell_type": "code",
   "execution_count": 6,
   "id": "5a1a9a92-9c0f-4ce6-b745-1d9227f7bf33",
   "metadata": {},
   "outputs": [
    {
     "name": "stdout",
     "output_type": "stream",
     "text": [
      "   OBJECTID  Shape_Leng  Shape_Area                     zone  LocationID  \\\n",
      "0         1    0.116357    0.000782           Newark Airport           1   \n",
      "1         2    0.433470    0.004866              Jamaica Bay           2   \n",
      "2         3    0.084341    0.000314  Allerton/Pelham Gardens           3   \n",
      "3         4    0.043567    0.000112            Alphabet City           4   \n",
      "4         5    0.092146    0.000498            Arden Heights           5   \n",
      "\n",
      "         borough                                           geometry  \n",
      "0            EWR  POLYGON ((933100.918 192536.086, 933091.011 19...  \n",
      "1         Queens  MULTIPOLYGON (((1033269.244 172126.008, 103343...  \n",
      "2          Bronx  POLYGON ((1026308.77 256767.698, 1026495.593 2...  \n",
      "3      Manhattan  POLYGON ((992073.467 203714.076, 992068.667 20...  \n",
      "4  Staten Island  POLYGON ((935843.31 144283.336, 936046.565 144...  \n"
     ]
    }
   ],
   "source": [
    "print(taxi_zones.head())"
   ]
  },
  {
   "cell_type": "code",
   "execution_count": 7,
   "id": "8dca12ae-d31b-4157-9e2c-15edb764e1f4",
   "metadata": {},
   "outputs": [
    {
     "name": "stdout",
     "output_type": "stream",
     "text": [
      "   LocationID        Borough                     Zone service_zone\n",
      "0           1            EWR           Newark Airport          EWR\n",
      "1           2         Queens              Jamaica Bay    Boro Zone\n",
      "2           3          Bronx  Allerton/Pelham Gardens    Boro Zone\n",
      "3           4      Manhattan            Alphabet City  Yellow Zone\n",
      "4           5  Staten Island            Arden Heights    Boro Zone\n"
     ]
    }
   ],
   "source": [
    "print(zone_info.head())"
   ]
  },
  {
   "cell_type": "code",
   "execution_count": 8,
   "id": "9a3ae87f-8a76-4215-aea5-964202e3f2d5",
   "metadata": {},
   "outputs": [
    {
     "name": "stdout",
     "output_type": "stream",
     "text": [
      "   PULocationID  DOLocationID      pickup_datetime     dropoff_datetime  \\\n",
      "0          42.0          42.0  2022-01-01 00:14:21  2022-01-01 00:15:33   \n",
      "1         116.0          41.0  2022-01-01 00:20:55  2022-01-01 00:29:38   \n",
      "2          41.0         140.0  2022-01-01 00:57:02  2022-01-01 01:13:14   \n",
      "3         181.0         181.0  2022-01-01 00:07:42  2022-01-01 00:15:57   \n",
      "4          33.0         170.0  2022-01-01 00:07:50  2022-01-01 00:28:52   \n",
      "\n",
      "   trip_distance  \n",
      "0           0.44  \n",
      "1           2.10  \n",
      "2           3.70  \n",
      "3           1.69  \n",
      "4           6.26  \n"
     ]
    }
   ],
   "source": [
    "print(demand_data.head())"
   ]
  },
  {
   "cell_type": "code",
   "execution_count": 9,
   "id": "4282474f-3cf4-4784-b872-30bc511d54a0",
   "metadata": {},
   "outputs": [],
   "source": [
    "# Process the data\n",
    "taxi_zones = taxi_zones.drop(columns=['LocationID'])\n",
    "taxi_zones = taxi_zones.merge(zone_info, left_on=\"OBJECTID\", right_on=\"LocationID\")"
   ]
  },
  {
   "cell_type": "code",
   "execution_count": 10,
   "id": "a030d867-2e64-4719-b956-22c85086c1ce",
   "metadata": {},
   "outputs": [
    {
     "name": "stdout",
     "output_type": "stream",
     "text": [
      "   OBJECTID  Shape_Leng  Shape_Area                     zone        borough  \\\n",
      "0         1    0.116357    0.000782           Newark Airport            EWR   \n",
      "1         2    0.433470    0.004866              Jamaica Bay         Queens   \n",
      "2         3    0.084341    0.000314  Allerton/Pelham Gardens          Bronx   \n",
      "3         4    0.043567    0.000112            Alphabet City      Manhattan   \n",
      "4         5    0.092146    0.000498            Arden Heights  Staten Island   \n",
      "\n",
      "                                            geometry  LocationID  \\\n",
      "0  POLYGON ((933100.918 192536.086, 933091.011 19...           1   \n",
      "1  MULTIPOLYGON (((1033269.244 172126.008, 103343...           2   \n",
      "2  POLYGON ((1026308.77 256767.698, 1026495.593 2...           3   \n",
      "3  POLYGON ((992073.467 203714.076, 992068.667 20...           4   \n",
      "4  POLYGON ((935843.31 144283.336, 936046.565 144...           5   \n",
      "\n",
      "         Borough                     Zone service_zone  \n",
      "0            EWR           Newark Airport          EWR  \n",
      "1         Queens              Jamaica Bay    Boro Zone  \n",
      "2          Bronx  Allerton/Pelham Gardens    Boro Zone  \n",
      "3      Manhattan            Alphabet City  Yellow Zone  \n",
      "4  Staten Island            Arden Heights    Boro Zone  \n"
     ]
    }
   ],
   "source": [
    "print(taxi_zones.head())"
   ]
  },
  {
   "cell_type": "markdown",
   "id": "b77c9950-3e0b-4ccd-a737-90f634fae293",
   "metadata": {},
   "source": [
    "## 2. Process Data + Create Graph"
   ]
  },
  {
   "cell_type": "code",
   "execution_count": 12,
   "id": "c0d1aa88-0663-47a6-b892-daab81e22ae6",
   "metadata": {},
   "outputs": [],
   "source": [
    "# Filter to match unique zones in demand data\n",
    "unique_zones_filtered = set(taxi_zones[\"LocationID\"].unique()) - {103, 104, 110}\n",
    "taxi_zones_filtered = taxi_zones[taxi_zones['OBJECTID'].isin(unique_zones_filtered)]"
   ]
  },
  {
   "cell_type": "code",
   "execution_count": 13,
   "id": "bebd164e-24e5-4495-984a-ea6d6d2ccc40",
   "metadata": {
    "scrolled": true
   },
   "outputs": [
    {
     "name": "stderr",
     "output_type": "stream",
     "text": [
      "C:\\Users\\Paula\\anaconda3\\envs\\tf-gpu\\lib\\site-packages\\geopandas\\geodataframe.py:1819: SettingWithCopyWarning: \n",
      "A value is trying to be set on a copy of a slice from a DataFrame.\n",
      "Try using .loc[row_indexer,col_indexer] = value instead\n",
      "\n",
      "See the caveats in the documentation: https://pandas.pydata.org/pandas-docs/stable/user_guide/indexing.html#returning-a-view-versus-a-copy\n",
      "  super().__setitem__(key, value)\n",
      "C:\\Users\\Paula\\anaconda3\\envs\\tf-gpu\\lib\\site-packages\\geopandas\\geodataframe.py:1819: SettingWithCopyWarning: \n",
      "A value is trying to be set on a copy of a slice from a DataFrame.\n",
      "Try using .loc[row_indexer,col_indexer] = value instead\n",
      "\n",
      "See the caveats in the documentation: https://pandas.pydata.org/pandas-docs/stable/user_guide/indexing.html#returning-a-view-versus-a-copy\n",
      "  super().__setitem__(key, value)\n",
      "C:\\Users\\Paula\\anaconda3\\envs\\tf-gpu\\lib\\site-packages\\geopandas\\geodataframe.py:1819: SettingWithCopyWarning: \n",
      "A value is trying to be set on a copy of a slice from a DataFrame.\n",
      "Try using .loc[row_indexer,col_indexer] = value instead\n",
      "\n",
      "See the caveats in the documentation: https://pandas.pydata.org/pandas-docs/stable/user_guide/indexing.html#returning-a-view-versus-a-copy\n",
      "  super().__setitem__(key, value)\n"
     ]
    }
   ],
   "source": [
    "# Extract coordinates\n",
    "taxi_zones_filtered['centroid'] = taxi_zones_filtered.centroid\n",
    "taxi_zones_filtered['centroid_x'] = taxi_zones_filtered.centroid.x\n",
    "taxi_zones_filtered['centroid_y'] = taxi_zones_filtered.centroid.y\n",
    "\n",
    "coords = taxi_zones_filtered[['LocationID', 'centroid_x', 'centroid_y']]\n",
    "coords_gdf = gpd.GeoDataFrame(coords, geometry=gpd.points_from_xy(coords.centroid_x, coords.centroid_y))\n",
    "coords_gdf.set_crs(epsg=2263, inplace=True)\n",
    "coords_gdf = coords_gdf.to_crs(epsg=4326)\n",
    "\n",
    "coords_gdf['centroid_lat'] = np.radians(coords_gdf.geometry.y)\n",
    "coords_gdf['centroid_lon'] = np.radians(coords_gdf.geometry.x)"
   ]
  },
  {
   "cell_type": "code",
   "execution_count": 14,
   "id": "e05e994b-3c31-4dc6-b596-76aa5ba4e6e1",
   "metadata": {},
   "outputs": [
    {
     "name": "stdout",
     "output_type": "stream",
     "text": [
      "   LocationID    centroid_x     centroid_y                    geometry  \\\n",
      "0           1  9.359968e+05  191376.749531    POINT (-74.174 40.69183)   \n",
      "1           2  1.031086e+06  164018.754403   POINT (-73.8313 40.61675)   \n",
      "2           3  1.026453e+06  254265.478659  POINT (-73.84742 40.86447)   \n",
      "3           4  9.906340e+05  202959.782391  POINT (-73.97697 40.72375)   \n",
      "4           5  9.318714e+05  140681.351376  POINT (-74.18848 40.55266)   \n",
      "\n",
      "   centroid_lat  centroid_lon  \n",
      "0      0.710206     -1.294581  \n",
      "1      0.708896     -1.288599  \n",
      "2      0.713220     -1.288881  \n",
      "3      0.710764     -1.291142  \n",
      "4      0.707777     -1.294833  \n"
     ]
    }
   ],
   "source": [
    "print(coords_gdf.head())"
   ]
  },
  {
   "cell_type": "code",
   "execution_count": 15,
   "id": "fdfa9173-62cf-471b-817b-14ad9f4c1405",
   "metadata": {},
   "outputs": [],
   "source": [
    "# Create the graph\n",
    "G = nx.Graph()\n",
    "for _, row in coords.iterrows():\n",
    "    G.add_node(row['LocationID'], pos=(row['centroid_x'], row['centroid_y']), features=[row['centroid_x'], row['centroid_y']])\n",
    "\n",
    "coords_rad = coords_gdf[['centroid_lat', 'centroid_lon']].to_numpy()\n",
    "distances = haversine_distances(coords_rad) * 6371000 / 1609.34  # Convert to miles\n",
    "\n",
    "threshold_distance = 20  # Threshold in miles\n",
    "for i, zone1 in enumerate(coords['LocationID']):\n",
    "    for j, zone2 in enumerate(coords['LocationID']):\n",
    "        if i != j and distances[i, j] < threshold_distance:\n",
    "            G.add_edge(zone1, zone2, weight=distances[i, j])\n",
    "\n",
    "node_features = pd.DataFrame.from_dict({node: data['features'] for node, data in G.nodes(data=True)}, orient='index')\n",
    "#stellar_graph = sg.StellarGraph.from_networkx(G, node_features=node_features)\n",
    "#adj_matrix = stellar_graph.to_adjacency_matrix()"
   ]
  },
  {
   "cell_type": "code",
   "execution_count": 16,
   "id": "ce9f729c-7af4-4789-a918-a1851084420e",
   "metadata": {},
   "outputs": [
    {
     "name": "stdout",
     "output_type": "stream",
     "text": [
      "   OBJECTID  Shape_Leng  Shape_Area                     zone        borough  \\\n",
      "0         1    0.116357    0.000782           Newark Airport            EWR   \n",
      "1         2    0.433470    0.004866              Jamaica Bay         Queens   \n",
      "2         3    0.084341    0.000314  Allerton/Pelham Gardens          Bronx   \n",
      "3         4    0.043567    0.000112            Alphabet City      Manhattan   \n",
      "4         5    0.092146    0.000498            Arden Heights  Staten Island   \n",
      "\n",
      "                                          geometry_x  LocationID  \\\n",
      "0  POLYGON ((933100.918 192536.086, 933091.011 19...           1   \n",
      "1  MULTIPOLYGON (((1033269.244 172126.008, 103343...           2   \n",
      "2  POLYGON ((1026308.77 256767.698, 1026495.593 2...           3   \n",
      "3  POLYGON ((992073.467 203714.076, 992068.667 20...           4   \n",
      "4  POLYGON ((935843.31 144283.336, 936046.565 144...           5   \n",
      "\n",
      "         Borough                     Zone service_zone    centroid_x  \\\n",
      "0            EWR           Newark Airport          EWR  9.359968e+05   \n",
      "1         Queens              Jamaica Bay    Boro Zone  1.031086e+06   \n",
      "2          Bronx  Allerton/Pelham Gardens    Boro Zone  1.026453e+06   \n",
      "3      Manhattan            Alphabet City  Yellow Zone  9.906340e+05   \n",
      "4  Staten Island            Arden Heights    Boro Zone  9.318714e+05   \n",
      "\n",
      "      centroid_y                  geometry_y  centroid_lat  centroid_lon  \n",
      "0  191376.749531    POINT (-74.174 40.69183)      0.710206     -1.294581  \n",
      "1  164018.754403   POINT (-73.8313 40.61675)      0.708896     -1.288599  \n",
      "2  254265.478659  POINT (-73.84742 40.86447)      0.713220     -1.288881  \n",
      "3  202959.782391  POINT (-73.97697 40.72375)      0.710764     -1.291142  \n",
      "4  140681.351376  POINT (-74.18848 40.55266)      0.707777     -1.294833  \n"
     ]
    }
   ],
   "source": [
    "merged_data = taxi_zones.merge(coords_gdf, on='LocationID')\n",
    "merged_data['centroid_lat'] = merged_data['centroid_lat'].to_numpy()\n",
    "merged_data['centroid_lon'] = merged_data['centroid_lon'].to_numpy()\n",
    "\n",
    "print(merged_data.head())"
   ]
  },
  {
   "cell_type": "markdown",
   "id": "bcca7ea9-1f35-4233-b987-1ca698ead97c",
   "metadata": {},
   "source": [
    "## 3. Create GA to solve the VRP"
   ]
  },
  {
   "cell_type": "code",
   "execution_count": 41,
   "id": "ed84bfd7-e395-487d-82e4-00c9ae2ad4b8",
   "metadata": {},
   "outputs": [],
   "source": [
    "def genetic_algorithm_vrp(data, zones, vehicle_capacities, popsize, iterations, threshold_distance):\n",
    "    \"\"\"\n",
    "    Solves the Vehicle Routing Problem using a Genetic Algorithm (GA).\n",
    "\n",
    "    Parameters:\n",
    "    data (pd.DataFrame): Merged data containing zones and coordinates.\n",
    "    zones (list): List of zones to visit.\n",
    "    vehicle_capacities (list): List of vehicle capacities.\n",
    "    popsize (int): Population size for the genetic algorithm.\n",
    "    iterations (int): Number of iterations to run the GA.\n",
    "    threshold_distance (float): Maximum distance threshold for connecting nodes.\n",
    "\n",
    "    Returns:\n",
    "    list, float: The optimal route labels and the associated total cost.\n",
    "    \"\"\"\n",
    "    \n",
    "    # Select only the relevant zones\n",
    "    selected_zones = data[data['zone'].isin(zones)]\n",
    "    \n",
    "    # Ensure the depot is first in vrp_nodes\n",
    "    depot_zone = zones[0]\n",
    "    depot_row = selected_zones[selected_zones['zone'] == depot_zone].iloc[0]\n",
    "    depot = {'label': depot_row['zone'], 'demand': depot_row['demand'], 'posX': depot_row['centroid_lon'], 'posY': depot_row['centroid_lat']}\n",
    "    selected_zones = selected_zones[selected_zones['zone'] != depot_zone]\n",
    "    \n",
    "    # Create VRP nodes, ensuring depot is the first node\n",
    "    vrp_nodes = [depot] + [{'label': row['zone'], 'demand': row['demand'], \n",
    "                            'posX': row['centroid_lon'], 'posY': row['centroid_lat']} \n",
    "                 for _, row in selected_zones.iterrows()]\n",
    "\n",
    "    def haversine_distance(n1, n2):\n",
    "        \"\"\"\n",
    "        Calculate Haversine distance between two nodes.\n",
    "        \"\"\"\n",
    "        coord1 = np.array([n1['posX'], n1['posY']])\n",
    "        coord2 = np.array([n2['posX'], n2['posY']])\n",
    "        return haversine_distances([coord1, coord2])[0][1] * 6371000 / 1609.34  # Convert to miles\n",
    "\n",
    "    def fitness(routes):\n",
    "        \"\"\"\n",
    "        Calculate the fitness of a population by summing the distance of all routes.\n",
    "        \"\"\"\n",
    "        total_distance = 0\n",
    "        for route in routes:\n",
    "            route_distance = haversine_distance(vrp_nodes[0], vrp_nodes[route[0]])  # Start from depot\n",
    "            for i in range(len(route) - 1):\n",
    "                route_distance += haversine_distance(vrp_nodes[route[i]], vrp_nodes[route[i + 1]])\n",
    "            route_distance += haversine_distance(vrp_nodes[route[-1]], vrp_nodes[0])  # Return to depot\n",
    "            total_distance += route_distance\n",
    "        return total_distance\n",
    "\n",
    "    def is_valid_solution(routes, capacities):\n",
    "        \"\"\"\n",
    "        Ensure that each route respects vehicle capacity and all customers are served exactly once.\n",
    "        \"\"\"\n",
    "        for route, capacity in zip(routes, capacities):\n",
    "            load = 0\n",
    "            for node in route:\n",
    "                load += vrp_nodes[node]['demand']\n",
    "                if load > capacity:\n",
    "                    return False\n",
    "        all_visited = set()\n",
    "        for route in routes:\n",
    "            all_visited.update(route)\n",
    "        return all_visited == set(range(1, len(vrp_nodes)))  # Check if all customers are visited\n",
    "\n",
    "    def adjust(routes, capacities):\n",
    "        \"\"\"\n",
    "        Adjust routes to ensure that no vehicle exceeds its capacity and all customers are served exactly once.\n",
    "        \"\"\"\n",
    "        all_nodes = set(range(1, len(vrp_nodes)))  # All nodes except depot\n",
    "        for route, capacity in zip(routes, capacities):\n",
    "            load = 0\n",
    "            adjusted_route = []\n",
    "            for node in route:\n",
    "                load += vrp_nodes[node]['demand']\n",
    "                if load > capacity:\n",
    "                    load = vrp_nodes[node]['demand']\n",
    "                    adjusted_route.append(0)  # Return to depot\n",
    "                adjusted_route.append(node)\n",
    "            route[:] = adjusted_route\n",
    "\n",
    "        # Ensure all nodes are visited exactly once\n",
    "        unvisited = all_nodes.copy()\n",
    "        for route in routes:\n",
    "            for node in route:\n",
    "                if node in unvisited:\n",
    "                    unvisited.remove(node)\n",
    "        # Assign unvisited nodes to routes\n",
    "        for node in unvisited:\n",
    "            best_route = min(routes, key=lambda r: fitness([r + [node]]))\n",
    "            best_route.append(node)\n",
    "\n",
    "    # Initialize population\n",
    "    population = []\n",
    "    for _ in range(popsize):\n",
    "        routes = [random.sample(range(1, len(vrp_nodes)), len(vrp_nodes) - 1) for _ in range(len(vehicle_capacities))]\n",
    "        adjust(routes, vehicle_capacities)\n",
    "        population.append(routes)\n",
    "\n",
    "    # Main loop of the genetic algorithm\n",
    "    for _ in range(iterations):\n",
    "        next_population = []\n",
    "        for _ in range(popsize // 2):\n",
    "            parent_ids = random.sample(range(popsize), 4)\n",
    "            parent1 = min(population[parent_ids[0]], population[parent_ids[1]], key=fitness)\n",
    "            parent2 = min(population[parent_ids[2]], population[parent_ids[3]], key=fitness)\n",
    "            cut_idx = random.randint(1, min(len(parent1[0]), len(parent2[0])) - 1)\n",
    "            child1 = [p1[:cut_idx] + p2[cut_idx:] for p1, p2 in zip(parent1, parent2)]\n",
    "            child2 = [p2[:cut_idx] + p1[cut_idx:] for p1, p2 in zip(parent1, parent2)]\n",
    "            if random.random() < 0.1:  # Mutation\n",
    "                for child in (child1, child2):\n",
    "                    route_to_mutate = random.choice(child)\n",
    "                    i1, i2 = random.sample(range(len(route_to_mutate)), 2)\n",
    "                    route_to_mutate[i1], route_to_mutate[i2] = route_to_mutate[i2], route_to_mutate[i1]\n",
    "            adjust(child1, vehicle_capacities)\n",
    "            adjust(child2, vehicle_capacities)\n",
    "            next_population.extend([child1, child2])\n",
    "        population = next_population\n",
    "\n",
    "    # Select the best solution\n",
    "    best_solution = min(population, key=fitness)\n",
    "\n",
    "    # Visualize the route\n",
    "    plt.figure(figsize=(15, 10))\n",
    "    df_vrp = pd.DataFrame(vrp_nodes)\n",
    "    plt.scatter(df_vrp['posX'], df_vrp['posY'], c='blue', marker='o', label='Nodes')\n",
    "    plt.scatter(df_vrp.iloc[0]['posX'], df_vrp.iloc[0]['posY'], c='red', marker='x', label='Depot')\n",
    "\n",
    "\n",
    "    colors = ['blue', 'orange', 'green', 'purple', 'brown']  # Different colors for different vehicles\n",
    "    for i, route in enumerate(best_solution):\n",
    "        for j in range(len(route)):\n",
    "            n1 = vrp_nodes[route[j - 1]] if j > 0 else vrp_nodes[0]  # Previous node or depot\n",
    "            n2 = vrp_nodes[route[j]]\n",
    "            plt.plot([n1['posX'], n2['posX']], [n1['posY'], n2['posY']], color=colors[i % len(colors)])\n",
    "            plt.text(n2['posX'], n2['posY'], n2['label'], fontsize=11, color='black')\n",
    "\n",
    "        # Draw line from last node to depot\n",
    "        last_node = vrp_nodes[route[-1]]\n",
    "        plt.plot([last_node['posX'], vrp_nodes[0]['posX']], [last_node['posY'], vrp_nodes[0]['posY']], color=colors[i % len(colors)])\n",
    "\n",
    "    plt.title('Ruta óptima')\n",
    "    plt.xlabel('Coordenada X')\n",
    "    plt.ylabel('Coordenada Y')\n",
    "    plt.legend()\n",
    "    plt.show()\n",
    "\n",
    "    # Return the best solution\n",
    "    route_labels = []\n",
    "    for route in best_solution:\n",
    "        route_labels.append([vrp_nodes[0]['label']] + [vrp_nodes[nodeIdx]['label'] for nodeIdx in route if nodeIdx != 0] + [vrp_nodes[0]['label']])\n",
    "\n",
    "    # Format the output\n",
    "    formatted_output = []\n",
    "    for i, route in enumerate(route_labels):\n",
    "        formatted_output.append(f\"Route for vehicle {i}:\\n {' -> '.join(route)}\\n\")\n",
    "\n",
    "    total_distance = fitness(best_solution)\n",
    "    formatted_output.append(f\"Total cost (distance): {total_distance:.2f} miles\")\n",
    "\n",
    "    # Print the formatted output\n",
    "    for line in formatted_output:\n",
    "        print(line)\n",
    "\n",
    "    return route_labels, total_distance\n"
   ]
  },
  {
   "cell_type": "markdown",
   "id": "c015c388-79ea-44da-b079-e1738bf622a5",
   "metadata": {},
   "source": [
    "## Some examples "
   ]
  },
  {
   "cell_type": "code",
   "execution_count": 71,
   "id": "75d8d942-6e3b-48c4-9b67-e495ac88b0d1",
   "metadata": {},
   "outputs": [
    {
     "data": {
      "image/png": "[encoded data removed]",
      "text/plain": [
       "<Figure size 1500x1000 with 1 Axes>"
      ]
     },
     "metadata": {},
     "output_type": "display_data"
    },
    {
     "name": "stdout",
     "output_type": "stream",
     "text": [
      "Route for vehicle 0:\n",
      " Penn Station/Madison Sq West -> College Point -> Penn Station/Madison Sq West\n",
      "\n",
      "Route for vehicle 1:\n",
      " Penn Station/Madison Sq West -> Hudson Sq -> Fort Greene -> Penn Station/Madison Sq West\n",
      "\n",
      "Route for vehicle 2:\n",
      " Penn Station/Madison Sq West -> Flatlands -> Bloomingdale -> Penn Station/Madison Sq West\n",
      "\n",
      "Total cost (distance): 37.00 miles\n"
     ]
    }
   ],
   "source": [
    "# Define the zones to use and their demands\n",
    "zones = ['Penn Station/Madison Sq West', 'Bloomingdale', 'College Point', 'Hudson Sq','Flatlands', 'Fort Greene']\n",
    "demands = {'Penn Station/Madison Sq West': 0, 'Bloomingdale': 2, 'College Point': 3, 'Hudson Sq':1, 'Flatlands':1, 'Fort Greene':2}\n",
    "\n",
    "# Assign demands to the data\n",
    "merged_data['demand'] = merged_data['zone'].map(demands).fillna(0)\n",
    "\n",
    "# Define vehicle capacities\n",
    "vehicle_capacities = [4, 3,3] \n",
    "\n",
    "# Apply the genetic algorithm\n",
    "route_labels, total_cost = genetic_algorithm_vrp(merged_data, zones, vehicle_capacities, popsize=250,iterations=50, threshold_distance=50)\n"
   ]
  },
  {
   "cell_type": "code",
   "execution_count": null,
   "id": "2db01a81-f08e-41be-a80c-6b2eddc7d958",
   "metadata": {},
   "outputs": [],
   "source": [
    "# Define the zones to use and their demands\n",
    "zones = ['Laurelton', 'Little Italy/NoLiTa', 'Mount Hope', 'Norwood','Pelham Parkway', 'SoHo']\n",
    "demands = {'Laurelton': 0, 'Little Italy/NoLiTa': 1,'Mount Hope': 2, 'Norwood': 3, 'Pelham Parkway':1, 'SoHo':2}\n",
    "\n",
    "# Assign demands to the data\n",
    "merged_data['demand'] = merged_data['zone'].map(demands).fillna(0)\n",
    "\n",
    "# Define vehicle capacities\n",
    "vehicle_capacities = [4, 4,3] \n",
    "\n",
    "# Apply the genetic algorithm\n",
    "route_labels, total_cost = genetic_algorithm_vrp(merged_data, zones, vehicle_capacities, popsize=250,iterations=50, threshold_distance=50)\n",
    "\n",
    "# Print the solution\n",
    "print('Optimal route:')\n",
    "for vehicle_route in route_labels:\n",
    "    print(' -> '.join(vehicle_route))\n",
    "print(f'Total cost: {total_cost:.2f}')"
   ]
  }
 ],
 "metadata": {
  "kernelspec": {
   "display_name": "Python (tf-gpu)",
   "language": "python",
   "name": "tf-gpu"
  },
  "language_info": {
   "codemirror_mode": {
    "name": "ipython",
    "version": 3
   },
   "file_extension": ".py",
   "mimetype": "text/x-python",
   "name": "python",
   "nbconvert_exporter": "python",
   "pygments_lexer": "ipython3",
   "version": "3.9.19"
  }
 },
 "nbformat": 4,
 "nbformat_minor": 5
}
